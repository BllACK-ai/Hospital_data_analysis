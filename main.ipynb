{
 "cells": [
  {
   "cell_type": "code",
   "execution_count": 1,
   "id": "9f806f1d",
   "metadata": {},
   "outputs": [],
   "source": [
    "import numpy as np \n",
    "import pandas as pd \n",
    "import matplotlib.pyplot as plt \n",
    "import re "
   ]
  },
  {
   "cell_type": "code",
   "execution_count": 58,
   "id": "c8418839",
   "metadata": {},
   "outputs": [],
   "source": [
    "MainFile = \"HOSPITAL_DATA 2.0.txt\"\n",
    "\n",
    "with open(MainFile, \"r\") as f:\n",
    "    lines = f.readlines()\n",
    "    \n",
    "lines[0] = lines[0].split(\"|\")\n"
   ]
  },
  {
   "cell_type": "code",
   "execution_count": 52,
   "id": "c1a56957",
   "metadata": {},
   "outputs": [],
   "source": [
    "mylist = []\n",
    "for i in range(1, len(lines)):\n",
    "    Books = {}\n",
    "    lines[i] = lines[i].split(\"|\")\n",
    "    Books[\"Patient_ID\"] = lines[i][0]\n",
    "    Books[\"Full_Name\"] = lines[i][1]\n",
    "    Books[\"AGE\"] = lines[i][2]\n",
    "    Books[\"SEX\"] = lines[i][3]\n",
    "    Books[\"DOB\"] = lines[i][4]\n",
    "    Books[\"Visit_Date\"] = lines[i][5]\n",
    "    Books[\"DEPT\"] = lines[i][6]\n",
    "    Books[\"Physician\"] = lines[i][7]\n",
    "    Books[\"Diagnosis\"] = lines[i][8]\n",
    "    Books[\"ICD-10\"] = lines[i][9]\n",
    "    Books[\"Procedures\"] = lines[i][10]\n",
    "    Books[\"Medications\"] = lines[i][11]\n",
    "    Books[\"BP\"] = lines[i][12]\n",
    "    Books[\"Heart_Rate\"] = lines[i][13]\n",
    "    Books[\"Temperature\"] = lines[i][14]\n",
    "    Books[\"BMI\"] = lines[i][15]\n",
    "    Books[\"Admission_Type\"] = lines[i][16]\n",
    "    Books[\"INSURANCE\"] = lines[i][17]\n",
    "    Books[\"Bill_Amount\"] = lines[i][18]\n",
    "    Books[\"Outcome\"] = lines[i][19]\n",
    "    \n",
    "    mylist.append(Books)\n",
    "    "
   ]
  },
  {
   "cell_type": "code",
   "execution_count": 56,
   "id": "6abc8c83",
   "metadata": {},
   "outputs": [],
   "source": [
    "\n",
    "Purged = pd.DataFrame(mylist)\n",
    "Purged.to_csv(\"Purged_data.csv\", index =False)"
   ]
  },
  {
   "cell_type": "code",
   "execution_count": null,
   "id": "8d37a1b2",
   "metadata": {},
   "outputs": [],
   "source": []
  }
 ],
 "metadata": {
  "kernelspec": {
   "display_name": "Python 3",
   "language": "python",
   "name": "python3"
  },
  "language_info": {
   "codemirror_mode": {
    "name": "ipython",
    "version": 3
   },
   "file_extension": ".py",
   "mimetype": "text/x-python",
   "name": "python",
   "nbconvert_exporter": "python",
   "pygments_lexer": "ipython3",
   "version": "3.12.1"
  }
 },
 "nbformat": 4,
 "nbformat_minor": 5
}
